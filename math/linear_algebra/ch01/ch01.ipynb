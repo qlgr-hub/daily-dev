{
 "cells": [
  {
   "cell_type": "code",
   "execution_count": 4,
   "id": "259f6806-9be8-4285-b9d3-e846a7fe6c75",
   "metadata": {},
   "outputs": [
    {
     "name": "stdout",
     "output_type": "stream",
     "text": [
      "-28.00000000000001\n",
      "-27.999999999999996\n"
     ]
    }
   ],
   "source": [
    "import numpy as np\n",
    "\n",
    "arr1 = np.array([[2, 5], [6, 1]])\n",
    "arr2 = np.array([[2, 6], [5, 1]])\n",
    "print(np.linalg.det(arr1))\n",
    "print(np.linalg.det(arr2))"
   ]
  },
  {
   "cell_type": "code",
   "execution_count": 5,
   "id": "cb9ea5e5-14ff-4b97-9c8d-f5fe6f43f993",
   "metadata": {},
   "outputs": [
    {
     "name": "stdout",
     "output_type": "stream",
     "text": [
      "-62.00000000000001\n",
      "-62.00000000000001\n"
     ]
    }
   ],
   "source": [
    "import numpy as np\n",
    "\n",
    "arr1 = np.array([[2, 5, 2], [6, 1, 3], [4, 9, 6]])\n",
    "arr2 = np.array([[2, 6, 4], [5, 1, 9], [2, 3, 6]])\n",
    "print(np.linalg.det(arr1))\n",
    "print(np.linalg.det(arr2))"
   ]
  },
  {
   "cell_type": "code",
   "execution_count": null,
   "id": "3706aad6-2475-4ffe-9a66-7d775bff9ece",
   "metadata": {},
   "outputs": [],
   "source": []
  }
 ],
 "metadata": {
  "kernelspec": {
   "display_name": "Python 3 (ipykernel)",
   "language": "python",
   "name": "python3"
  },
  "language_info": {
   "codemirror_mode": {
    "name": "ipython",
    "version": 3
   },
   "file_extension": ".py",
   "mimetype": "text/x-python",
   "name": "python",
   "nbconvert_exporter": "python",
   "pygments_lexer": "ipython3",
   "version": "3.10.12"
  }
 },
 "nbformat": 4,
 "nbformat_minor": 5
}
