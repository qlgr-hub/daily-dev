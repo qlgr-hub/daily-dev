{
 "cells": [
  {
   "cell_type": "markdown",
   "id": "eb4c657e-bc64-46c1-8a44-dc07fd168058",
   "metadata": {},
   "source": [
    " ## Matrix Multiplication"
   ]
  },
  {
   "cell_type": "markdown",
   "id": "a35b03f8-9290-43b3-8f00-375c47b3b75b",
   "metadata": {},
   "source": [
    "### Dot Product and saxpy (scalar a x plus y)"
   ]
  },
  {
   "cell_type": "code",
   "execution_count": 2,
   "id": "aa631dd6-f3e1-4d21-a385-8ca8fcc7dcba",
   "metadata": {},
   "outputs": [
    {
     "data": {
      "text/plain": [
       "20"
      ]
     },
     "execution_count": 2,
     "metadata": {},
     "output_type": "execute_result"
    }
   ],
   "source": [
    "# Dot Product\n",
    "def dot(a, b):\n",
    "    c = 0\n",
    "    for i in range(len(a)):\n",
    "        c = c + a[i] * b[i]\n",
    "    return c\n",
    "\n",
    "a = [1, 2, 3]\n",
    "b = [2, 3, 4]\n",
    "dot(a, b)"
   ]
  },
  {
   "cell_type": "code",
   "execution_count": 3,
   "id": "458e9519-38a9-461b-8e64-4d9b82164c6f",
   "metadata": {},
   "outputs": [
    {
     "data": {
      "text/plain": [
       "[5, 9, 13]"
      ]
     },
     "execution_count": 3,
     "metadata": {},
     "output_type": "execute_result"
    }
   ],
   "source": [
    "# saxpy\n",
    "def saxpy(a, x, y):\n",
    "    for i in range(len(x)):\n",
    "        y[i] = y[i] + a * x[i]\n",
    "    return y\n",
    "\n",
    "a = 3\n",
    "x = [1, 2, 3]\n",
    "y = [2, 3, 4]\n",
    "saxpy(a, x, y)"
   ]
  },
  {
   "cell_type": "markdown",
   "id": "63111023-8379-4af1-9475-23408b9885c4",
   "metadata": {},
   "source": [
    "### Matrix-Vector Multiplication and gaxpy (generalized saxpy)"
   ]
  },
  {
   "cell_type": "code",
   "execution_count": 7,
   "id": "5204c787-0d68-498a-a9a8-020e0d2ed222",
   "metadata": {},
   "outputs": [
    {
     "data": {
      "text/plain": [
       "[33, 64, 95]"
      ]
     },
     "execution_count": 7,
     "metadata": {},
     "output_type": "execute_result"
    }
   ],
   "source": [
    "# Row type gaxpy\n",
    "def gaxpy_r(A, x, y):\n",
    "    for i in range(len(y)):\n",
    "        for j in range(len(x)):\n",
    "            y[i] = y[i] + A[i][j] * x[j]\n",
    "    return y\n",
    "\n",
    "# Column type gaxpy\n",
    "def gaxpy_c(A, x, y):\n",
    "    for j in range(len(x)):\n",
    "        for i in range(len(y)):\n",
    "            y[i] = y[i] + A[i][j] * x[j]\n",
    "    return y\n",
    "\n",
    "A = [[1, 2], [3, 4], [5, 6]]\n",
    "x = [7, 8]\n",
    "y = [10, 11, 12]\n",
    "\n",
    "gaxpy_r(A, x, y)"
   ]
  },
  {
   "cell_type": "code",
   "execution_count": 8,
   "id": "46d36fe4-98ed-40bb-a0fc-b0171bfe5ae9",
   "metadata": {},
   "outputs": [
    {
     "data": {
      "text/plain": [
       "[56, 117, 178]"
      ]
     },
     "execution_count": 8,
     "metadata": {},
     "output_type": "execute_result"
    }
   ],
   "source": [
    "gaxpy_c(A, x, y)"
   ]
  },
  {
   "cell_type": "code",
   "execution_count": null,
   "id": "9d607421-cf20-412b-a816-c9264d8a6172",
   "metadata": {},
   "outputs": [],
   "source": []
  },
  {
   "cell_type": "code",
   "execution_count": null,
   "id": "16295937-2d46-4039-b19c-ff70aa79e5cf",
   "metadata": {},
   "outputs": [],
   "source": []
  }
 ],
 "metadata": {
  "kernelspec": {
   "display_name": "Python 3 (ipykernel)",
   "language": "python",
   "name": "python3"
  },
  "language_info": {
   "codemirror_mode": {
    "name": "ipython",
    "version": 3
   },
   "file_extension": ".py",
   "mimetype": "text/x-python",
   "name": "python",
   "nbconvert_exporter": "python",
   "pygments_lexer": "ipython3",
   "version": "3.10.12"
  }
 },
 "nbformat": 4,
 "nbformat_minor": 5
}
